{
 "cells": [
  {
   "cell_type": "code",
   "execution_count": null,
   "metadata": {},
   "outputs": [],
   "source": [
    "import matplotlib.pyplot as plt\n",
    "import numpy as np\n",
    "import sys\n",
    "import random"
   ]
  },
  {
   "cell_type": "code",
   "execution_count": null,
   "metadata": {},
   "outputs": [],
   "source": [
    "#f=open('/Users/wangshili/Desktop/2021_spring/genomics/project/BENGI/Unsupervised_result/data/GM12878.RNAPII-ChIAPET-Distance.v4.txt')\n",
    "f=open('/Users/wangshili/Desktop/2021_spring/genomics/project/BENGI/Unsupervised_result/data/GM12878.HiC-Distance.v2.txt')\n",
    "\n",
    "#print(sys.argv[1])\n",
    "distance = []\n",
    "for line in f:\n",
    "    line=line.rstrip().split(\"\\t\")\n",
    "    distance.append(1/float(line[1]))\n",
    "    #print(line[1])\n",
    "    #break\n",
    "f.close()"
   ]
  },
  {
   "cell_type": "code",
   "execution_count": null,
   "metadata": {},
   "outputs": [],
   "source": [
    "print(len(distance))\n",
    "print('mean',np.mean(distance))\n",
    "print('std',np.std(distance))\n",
    "print('median',np.median(distance))\n",
    "#rand_index = random.sample(range(1, 5155), 100)\n",
    "#rand_x = np.arange(100)\n",
    "#print(np.array(distance)[rand_index])\n",
    "#plt.plot(rand_x, np.array(distance)[rand_index])\n",
    "x = np.arange(len(distance))\n",
    "#print('length of x',len(x))\n",
    "plt.scatter(x, distance)\n",
    "# #plt.plot([0, 1], [0, 1], color='navy', lw=lw, linestyle='--')\n",
    "# # plt.xlim([0.0, 1.0])\n",
    "# # plt.ylim([0.0, 1.05])\n",
    "plt.xlabel('index of data points')\n",
    "plt.ylabel('inverse of distance')\n",
    "plt.title('HI-C: distance distribution')\n",
    "plt.savefig('HIC: distance distance distribution.jpg')\n",
    "plt.show()"
   ]
  }
 ],
 "metadata": {
  "kernelspec": {
   "display_name": "Python 3",
   "language": "python",
   "name": "python3"
  },
  "language_info": {
   "codemirror_mode": {
    "name": "ipython",
    "version": 3
   },
   "file_extension": ".py",
   "mimetype": "text/x-python",
   "name": "python",
   "nbconvert_exporter": "python",
   "pygments_lexer": "ipython3",
   "version": "3.7.6"
  }
 },
 "nbformat": 4,
 "nbformat_minor": 4
}
