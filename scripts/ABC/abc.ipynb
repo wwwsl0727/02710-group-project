{
 "cells": [
  {
   "cell_type": "code",
   "execution_count": 93,
   "metadata": {},
   "outputs": [],
   "source": [
    "import numpy as np\n",
    "import matplotlib.pyplot as plt\n",
    "from sklearn import metrics"
   ]
  },
  {
   "cell_type": "code",
   "execution_count": 77,
   "metadata": {},
   "outputs": [],
   "source": [
    "def plot_auc(figure_name,titlename,y,pred):\n",
    "    fpr, tpr, thresholds = metrics.roc_curve(y, pred, pos_label=1)\n",
    "\n",
    "\n",
    "    print(\"compute area:\",metrics.auc(fpr, tpr))\n",
    "    plt.figure()\n",
    "    lw = 2\n",
    "    plt.plot(fpr, tpr, color='darkorange',\n",
    "             lw=lw, label='ROC curve (area = %0.2f)' % metrics.auc(fpr, tpr))\n",
    "    plt.plot([0, 1], [0, 1], color='navy', lw=lw, linestyle='--')\n",
    "    plt.xlim([0.0, 1.0])\n",
    "    plt.ylim([0.0, 1.05])\n",
    "    plt.xlabel('False Positive Rate')\n",
    "    plt.ylabel('True Positive Rate')\n",
    "    plt.title(titlename)\n",
    "    plt.legend(loc=\"lower right\")\n",
    "    plt.savefig('../../figures'+figure_name+'.jpg')\n",
    "    plt.show()\n"
   ]
  },
  {
   "cell_type": "code",
   "execution_count": 159,
   "metadata": {},
   "outputs": [],
   "source": [
    "# get the distribution of tss location in genecodetss\n",
    "#tssLocations = open('/Users/wangshili/Desktop/2021_spring/genomics/project/02710-group-project/data/ABC/GENCODEv19-TSSs.bed')\n",
    "tss_filterd=open('/Users/wangshili/Desktop/2021_spring/genomics/project/02710-group-project/data/ABC/k562_tss_filterd.txt')\n",
    "    \n",
    "# get the distribution of all predictions\n",
    "predictions = open('/Users/wangshili/Desktop/2021_spring/genomics/project/02710-group-project/data/ABC/K562.GeneSummary.txt')\n",
    "\n",
    "all_preds = open('/Users/wangshili/Desktop/2021_spring/genomics/project/02710-group-project/data/ABC/K562.AllPredictions.txt')\n"
   ]
  },
  {
   "cell_type": "code",
   "execution_count": 160,
   "metadata": {},
   "outputs": [
    {
     "name": "stdout",
     "output_type": "stream",
     "text": [
      "20407\n"
     ]
    }
   ],
   "source": [
    "tss = []\n",
    "\n",
    "for line in tss_filterd.readlines():\n",
    "#for line in tssLocations.readlines()[1:]:\n",
    "    line=line.rstrip().split(\"\\t\")\n",
    "    #location = int(line[1])\n",
    "    location = int(line[0])\n",
    "    tss.append(location)\n",
    "print(len(tss))"
   ]
  },
  {
   "cell_type": "code",
   "execution_count": 161,
   "metadata": {},
   "outputs": [
    {
     "name": "stdout",
     "output_type": "stream",
     "text": [
      "24578\n"
     ]
    }
   ],
   "source": [
    "pred = []\n",
    "\n",
    "for line in predictions.readlines()[1:]:\n",
    "    #print(line)\n",
    "    line=line.rstrip().split(\"\\t\")\n",
    "    location = float(line[2])\n",
    "    pred.append(location)\n",
    "   \n",
    "    #print(location)\n",
    "    #break\n",
    "print(len(pred))"
   ]
  },
  {
   "cell_type": "code",
   "execution_count": 131,
   "metadata": {},
   "outputs": [],
   "source": [
    "def plot_hist(data,name):\n",
    "    # An \"interface\" to matplotlib.axes.Axes.hist() method\n",
    "    n, bins, patches = plt.hist(x=data, bins='auto', color='#0504aa',\n",
    "                                alpha=0.7, rwidth=0.85)\n",
    "    plt.grid(axis='y', alpha=0.75)\n",
    "    plt.xlabel('location')\n",
    "    plt.ylabel('Frequency')\n",
    "    plt.title(name)\n",
    "    plt.text(23, 45, r'$\\mu=15, b=3$')\n",
    "    maxfreq = n.max()\n",
    "    # Set a clean upper y-axis limit.\n",
    "    plt.ylim(ymax=np.ceil(maxfreq / 10) * 10 if maxfreq % 10 else maxfreq + 10)"
   ]
  },
  {
   "cell_type": "code",
   "execution_count": 117,
   "metadata": {
    "collapsed": true
   },
   "outputs": [
    {
     "data": {
      "image/png": "[encoded data removed]",
      "text/plain": [
       "<Figure size 432x288 with 1 Axes>"
      ]
     },
     "metadata": {
      "needs_background": "light"
     },
     "output_type": "display_data"
    }
   ],
   "source": [
    "plot_hist(tss,'true')"
   ]
  },
  {
   "cell_type": "code",
   "execution_count": 118,
   "metadata": {
    "collapsed": true
   },
   "outputs": [
    {
     "data": {
      "image/png": "[encoded data removed]",
      "text/plain": [
       "<Figure size 432x288 with 1 Axes>"
      ]
     },
     "metadata": {
      "needs_background": "light"
     },
     "output_type": "display_data"
    }
   ],
   "source": [
    "plot_hist(pred,'pred')"
   ]
  },
  {
   "cell_type": "code",
   "execution_count": 119,
   "metadata": {},
   "outputs": [
    {
     "name": "stdout",
     "output_type": "stream",
     "text": [
      "222\n"
     ]
    }
   ],
   "source": [
    "print(len(list(set(pred).intersection(tss))))"
   ]
  },
  {
   "cell_type": "code",
   "execution_count": 162,
   "metadata": {},
   "outputs": [],
   "source": [
    "keys = list(set(pred).intersection(tss))"
   ]
  },
  {
   "cell_type": "code",
   "execution_count": 163,
   "metadata": {},
   "outputs": [],
   "source": [
    "predictions = open('/Users/wangshili/Desktop/2021_spring/genomics/project/02710-group-project/data/ABC/K562.GeneSummary.txt')\n",
    "\n",
    "dict = {}\n",
    "# generate the name,location pair\n",
    "for line in predictions.readlines()[1:]:\n",
    "    line=line.rstrip().split(\"\\t\")\n",
    "    location = float(line[2])\n",
    "    if location in keys:\n",
    "        name = line[1]\n",
    "        #print(name)\n",
    "        #break\n",
    "        dict[name] = location\n",
    "    pred.append(location)"
   ]
  },
  {
   "cell_type": "code",
   "execution_count": 6,
   "metadata": {},
   "outputs": [
    {
     "name": "stdout",
     "output_type": "stream",
     "text": [
      "6129\n"
     ]
    }
   ],
   "source": [
    "print(len(keys))"
   ]
  },
  {
   "cell_type": "code",
   "execution_count": 62,
   "metadata": {},
   "outputs": [
    {
     "name": "stdout",
     "output_type": "stream",
     "text": [
      "6184\n"
     ]
    }
   ],
   "source": [
    "print(len(dict))"
   ]
  },
  {
   "cell_type": "code",
   "execution_count": 32,
   "metadata": {},
   "outputs": [
    {
     "name": "stdout",
     "output_type": "stream",
     "text": [
      "['FAM138A', 'FAM138F']\n"
     ]
    }
   ],
   "source": [
    "dict.get('LOC100288069')\n",
    "print(list(dict.keys())[:2])"
   ]
  },
  {
   "cell_type": "code",
   "execution_count": 164,
   "metadata": {},
   "outputs": [],
   "source": [
    "all_preds = open('/Users/wangshili/Desktop/2021_spring/genomics/project/02710-group-project/data/ABC/K562.AllPredictions.txt')\n",
    "\n",
    "abc_results = '/Users/wangshili/Desktop/2021_spring/genomics/project/02710-group-project/data/ABC/predict_filtered_output.txt'\n",
    "output=open(abc_results, \"w+\")\n",
    "for line in all_preds.readlines()[1:]:\n",
    "    line=line.rstrip().split(\"\\t\")\n",
    "    # start,end,tsslocation,abc_score\n",
    "    name = line[3]\n",
    "    if line[3] in dict.keys():\n",
    "#         print(line[3])\n",
    "#         print(dict[line[3]])\n",
    "#         print(str(line[1]))\n",
    "#         print(str(line[2]))\n",
    "#         print(str(line[1])+\"\\t\"+str(line[2])+\"\\t\"+str(dict[line[3]])+\"\\t\"+str(line[6]))\n",
    "#         break\n",
    "        #print(line[1]+\"\\t\"+line[2]+\"\\t\"+dict[line[3]]+\"\\t\"+dict[6],file=output)\n",
    "         print(str(line[1])+\"\\t\"+str(line[2])+\"\\t\"+str(dict[line[3]])+\"\\t\"+str(line[6]),file=output)\n",
    "output.close()\n",
    "all_preds.close()"
   ]
  },
  {
   "cell_type": "code",
   "execution_count": 135,
   "metadata": {},
   "outputs": [],
   "source": [
    "def Create_TSS_Dict(tss):\n",
    "    tss=open(tss)\n",
    "    tssDict={}\n",
    "    for line in tss:\n",
    "        line=line.rstrip().split(\"\\t\")\n",
    "        if line[6] in tssDict:\n",
    "            tssDict[line[6]].append(int(line[1]))\n",
    "        else:\n",
    "            tssDict[line[6]]=[int(line[1])]\n",
    "    tss.close()\n",
    "    return tssDict\n",
    "\n",
    "def Create_Enhancer_Dict(enhancers):\n",
    "    enhancers=open(enhancers)\n",
    "    enhancerDict={}\n",
    "    for line in enhancers:\n",
    "        line=line.rstrip().split(\"\\t\")\n",
    "        enhancerDict[line[4]]=[int(line[1]),int(line[2])]\n",
    "    enhancers.close()\n",
    "    return enhancerDict\n"
   ]
  },
  {
   "cell_type": "code",
   "execution_count": 165,
   "metadata": {},
   "outputs": [],
   "source": [
    "#analyze enhancer distribution\n",
    "#enhancers_name ='/Users/wangshili/Desktop/2021_spring/genomics/project/02710-group-project/data/ABC/hg19-cCREs.bed'\n",
    "#tss_name='/Users/wangshili/Desktop/2021_spring/genomics/project/02710-group-project/data/ABC/GENCODEv19-TSSs.bed'\n",
    "tss_name_filterd='/Users/wangshili/Desktop/2021_spring/genomics/project/02710-group-project/data/ABC/k562_tss_filterd.txt'\n",
    "enhancers_name_filterd='/Users/wangshili/Desktop/2021_spring/genomics/project/02710-group-project/data/ABC/k562_ccre_filterd.txt'"
   ]
  },
  {
   "cell_type": "code",
   "execution_count": 166,
   "metadata": {},
   "outputs": [],
   "source": [
    "def Create_filtered_TSS_Dict(tss):\n",
    "    tss=open(tss)\n",
    "    tssDict={}\n",
    "    for line in tss:\n",
    "        line=line.rstrip().split(\"\\t\")\n",
    "        if line[1] in tssDict:\n",
    "            tssDict[line[1]].append(int(line[0]))\n",
    "        else:\n",
    "            tssDict[line[1]]=[int(line[0])]\n",
    "    tss.close()\n",
    "    return tssDict\n",
    "\n",
    "def Create_filtered_Enhancer_Dict(enhancers):\n",
    "    enhancers=open(enhancers)\n",
    "    enhancerDict={}\n",
    "    for line in enhancers:\n",
    "        line=line.rstrip().split(\"\\t\")\n",
    "        enhancerDict[line[2]]=[int(line[0]),int(line[1])]\n",
    "    enhancers.close()\n",
    "    return enhancerDict\n"
   ]
  },
  {
   "cell_type": "code",
   "execution_count": 167,
   "metadata": {},
   "outputs": [],
   "source": [
    "\n",
    "\n",
    "# tssDict = Create_TSS_Dict(tss_name)\n",
    "# enhancerDict = Create_Enhancer_Dict(enhancers_name)\n",
    "tssFilteredDict = Create_filtered_TSS_Dict(tss_name_filterd)\n",
    "enhancerFilteredDict = Create_filtered_Enhancer_Dict(enhancers_name_filterd)"
   ]
  },
  {
   "cell_type": "code",
   "execution_count": 168,
   "metadata": {},
   "outputs": [],
   "source": [
    "#links = open('/Users/wangshili/Desktop/2021_spring/genomics/project/02710-group-project/data/ABC/K562.CRISPR-Benchmark.v3.txt')\n",
    "benchmark_filterd=open('/Users/wangshili/Desktop/2021_spring/genomics/project/02710-group-project/data/ABC/'+\n",
    "                                                   'k562_benchmark_filterd.txt')\n",
    "#pairs=open('/Users/wangshili/Desktop/2021_spring/genomics/project/02710-group-project/data/ABC/ccreTsspairs.txt', \"w+\")\n",
    "pairs=open('/Users/wangshili/Desktop/2021_spring/genomics/project/02710-group-project/data/ABC/ccreTsspairs_filtered.txt', \"w+\")\n",
    "\n",
    "for line in benchmark_filterd:\n",
    "# for line in links:\n",
    "    line=line.rstrip().split(\"\\t\")\n",
    "    \n",
    "    #m=1000000000000\n",
    "    for x in tssDict[line[1].rstrip()]:\n",
    "        #start,end,tss_location,label\n",
    "        if x in keys:\n",
    "            print(str(enhancerDict[line[0].rstrip()][0])+\"\\t\"+\n",
    "              str(enhancerDict[line[0].rstrip()][1])+\"\\t\"+\n",
    "              str(x)+\"\\t\"+str(line[2]),file=pairs)\n",
    "#links.close()\n",
    "benchmark_filterd.close()\n",
    "pairs.close()"
   ]
  },
  {
   "cell_type": "code",
   "execution_count": 169,
   "metadata": {},
   "outputs": [],
   "source": [
    "#final output score,label pair\n",
    "# for enhancer within the 10000, considered as the same enhancer\n",
    "\n",
    "#true_pairs=open('/Users/wangshili/Desktop/2021_spring/genomics/project/02710-group-project/data/ABC/ccreTsspairs.txt',\"r\")\n",
    "true_pairs_filtered=open('/Users/wangshili/Desktop/2021_spring/genomics/project/02710-group-project/data/ABC/ccreTsspairs_filtered.txt',\"r\")\n",
    "\n",
    "\n",
    "# tss_location, list of enhancer start position, end position, label\n",
    "dict_true_pairs = {}\n",
    "\n",
    "for line in true_pairs_filtered.readlines():\n",
    "#for line in true_pairs.readlines():\n",
    "    #print('hello')\n",
    "    #print('line'+line)\n",
    "    line=line.rstrip().split(\"\\t\")\n",
    "    tss = int(line[2])\n",
    "    row = []\n",
    "    row.append(int(line[0]))\n",
    "    row.append(int(line[1]))\n",
    "    row.append(int(line[3]))\n",
    "    \n",
    "    try:\n",
    "        #d[elem[1]].append(elem[0])\n",
    "        dict_true_pairs[tss].append(row)\n",
    "    except KeyError:\n",
    "        dict_true_pairs[tss] = [row]\n",
    "        #d[elem[1]] = [elem[0]]\n",
    "    #break\n",
    "#print(dict_true_pairs)\n",
    "#for each line in abc_results, get the label from the dict and write the score and label to file\n",
    "true_pairs_filtered.close()"
   ]
  },
  {
   "cell_type": "code",
   "execution_count": 170,
   "metadata": {},
   "outputs": [
    {
     "name": "stdout",
     "output_type": "stream",
     "text": [
      "451\n"
     ]
    }
   ],
   "source": [
    "print(len(dict_true_pairs.keys()))"
   ]
  },
  {
   "cell_type": "code",
   "execution_count": 62,
   "metadata": {},
   "outputs": [
    {
     "name": "stdout",
     "output_type": "stream",
     "text": [
      "[150947479]\n",
      "[[150949554, 150950148, 1], [151568812, 151569555, 0], [150517853, 150518630, 0]]\n"
     ]
    }
   ],
   "source": [
    "print(list(dict_true_pairs.keys())[1:2])\n",
    "#print(dict_true_pairs[762902])\n",
    "print(dict_true_pairs[150947479])"
   ]
  },
  {
   "cell_type": "code",
   "execution_count": 171,
   "metadata": {},
   "outputs": [],
   "source": [
    "# abc_results = open('/Users/wangshili/Desktop/2021_spring/genomics/project/02710-group-project/data/ABC/predict_output.txt')\n",
    "# scoreLabelPairs = '/Users/wangshili/Desktop/2021_spring/genomics/project/02710-group-project/data/ABC/scoreLabelPairs.txt'\n",
    "\n",
    "abc_results = open('/Users/wangshili/Desktop/2021_spring/genomics/project/02710-group-project/data/ABC/predict_filtered_output.txt')\n",
    "scoreLabelPairs = '/Users/wangshili/Desktop/2021_spring/genomics/project/02710-group-project/data/ABC/scoreLabelPairs_filtered.txt'\n",
    "\n",
    "output=open(scoreLabelPairs, \"w+\")\n",
    "y = []\n",
    "scores = []\n",
    "for line in abc_results:\n",
    "    #print(line)\n",
    "    line=line.rstrip().split(\"\\t\")\n",
    "    tss = int(float(line[2]))\n",
    "    #print(tss)\n",
    "    start = int(line[0])\n",
    "    end = int(line[1])\n",
    "    try:\n",
    "        vals = dict_true_pairs[tss]\n",
    "        for val in vals:\n",
    "            reference_start = int(val[0]) - 10000\n",
    "            reference_end = int(val[1]) + 10000\n",
    "            if start > reference_start and end < reference_end:\n",
    "                #label, score\n",
    "                y.append(int(val[2]))\n",
    "                scores.append(float(line[3]))\n",
    "                print(int(val[2]),float(line[3]),file=output)\n",
    "    except KeyError:\n",
    "        continue\n",
    "    #break    \n",
    "\n",
    "abc_results.close()\n",
    "output.close()"
   ]
  },
  {
   "cell_type": "code",
   "execution_count": 172,
   "metadata": {},
   "outputs": [
    {
     "name": "stdout",
     "output_type": "stream",
     "text": [
      "20415\n",
      "20415\n"
     ]
    }
   ],
   "source": [
    "print(len(scores))\n",
    "print(len(y))"
   ]
  },
  {
   "cell_type": "code",
   "execution_count": 173,
   "metadata": {},
   "outputs": [
    {
     "name": "stdout",
     "output_type": "stream",
     "text": [
      "compute area: 0.5320920446457205\n"
     ]
    },
    {
     "data": {
      "image/png": "[encoded data removed]",
      "text/plain": [
       "<Figure size 432x288 with 1 Axes>"
      ]
     },
     "metadata": {
      "needs_background": "light"
     },
     "output_type": "display_data"
    }
   ],
   "source": [
    "plot_auc('abc_auc_filtered','roc curve for k562_crisper_abc_filtered',y,scores)"
   ]
  },
  {
   "cell_type": "code",
   "execution_count": 85,
   "metadata": {},
   "outputs": [],
   "source": [
    "def normal_mode(filename,tssDict,enhancerDict):\n",
    "    y=[]\n",
    "    pred=[] \n",
    "    distance = []\n",
    "    links = open(filename)\n",
    "    for line in links:\n",
    "        line=line.rstrip().split(\"\\t\")\n",
    "        m=1000000000000\n",
    "        for x in tssDict[line[1].rstrip()]:\n",
    "            a=min([abs(enhancerDict[line[0].rstrip()][0]-x),abs(enhancerDict[line[0].rstrip()][1]-x)])\n",
    "            if a < m:\n",
    "                m=a\n",
    "\n",
    "        y.append(int(line[2]))\n",
    "        if m == 0:\n",
    "            pred.append(1)\n",
    "            distance.append(1)\n",
    "            #print(line[2]+\"\\t\"+str(1),file=output)\n",
    "        else:\n",
    "            pred.append(1/float(m))\n",
    "            distance.append(float(m))\n",
    "            #print(line[2]+\"\\t\"+str(1/float(m)),file=output)\n",
    "    links.close()\n",
    "    output.close()\n",
    "    return np.array(y),np.array(pred),np.array(distance)"
   ]
  },
  {
   "cell_type": "code",
   "execution_count": 86,
   "metadata": {},
   "outputs": [
    {
     "name": "stdout",
     "output_type": "stream",
     "text": [
      "compute area: 0.8576811728450621\n"
     ]
    },
    {
     "data": {
      "image/png": "[encoded data removed]",
      "text/plain": [
       "<Figure size 432x288 with 1 Axes>"
      ]
     },
     "metadata": {
      "needs_background": "light"
     },
     "output_type": "display_data"
    }
   ],
   "source": [
    "#analyze enhancer distribution\n",
    "enhancers_name ='/Users/wangshili/Desktop/2021_spring/genomics/project/02710-group-project/data/ABC/hg19-cCREs.bed'\n",
    "tss_name='/Users/wangshili/Desktop/2021_spring/genomics/project/02710-group-project/data/ABC/GENCODEv19-TSSs.bed'\n",
    "linkname = '/Users/wangshili/Desktop/2021_spring/genomics/project/02710-group-project/data/ABC/K562.CRISPR-Benchmark.v3.txt'\n",
    "tssDict = Create_TSS_Dict(tss_name)\n",
    "enhancerDict = Create_Enhancer_Dict(enhancers_name)\n",
    "y,pred,distance = normal_mode(linkname,tssDict,enhancerDict)\n",
    "plot_auc('k562_distance','roc curve for k562_crisper_distance_method',y,pred)"
   ]
  },
  {
   "cell_type": "code",
   "execution_count": 88,
   "metadata": {},
   "outputs": [
    {
     "name": "stdout",
     "output_type": "stream",
     "text": [
      "25227\n",
      "mean 322136.0405121497\n",
      "std 197816.0985881557\n",
      "median 316072.0\n"
     ]
    },
    {
     "data": {
      "image/png": "[encoded data removed]",
      "text/plain": [
       "<Figure size 432x288 with 1 Axes>"
      ]
     },
     "metadata": {
      "needs_background": "light"
     },
     "output_type": "display_data"
    }
   ],
   "source": [
    "print(len(distance))\n",
    "print('mean',np.mean(distance))\n",
    "print('std',np.std(distance))\n",
    "print('median',np.median(distance))\n",
    "#rand_index = random.sample(range(1, 5155), 100)\n",
    "#rand_x = np.arange(100)\n",
    "#print(np.array(distance)[rand_index])\n",
    "#plt.plot(rand_x, np.array(distance)[rand_index])\n",
    "x = np.arange(len(distance))\n",
    "#print('length of x',len(x))\n",
    "plt.scatter(x, distance)\n",
    "# #plt.plot([0, 1], [0, 1], color='navy', lw=lw, linestyle='--')\n",
    "# # plt.xlim([0.0, 1.0])\n",
    "# # plt.ylim([0.0, 1.05])\n",
    "plt.xlabel('index of data points')\n",
    "plt.ylabel('inverse of distance')\n",
    "plt.title('k862: distance distribution')\n",
    "plt.savefig('k862: distance distance distribution.jpg')\n",
    "plt.show()"
   ]
  },
  {
   "cell_type": "code",
   "execution_count": 156,
   "metadata": {},
   "outputs": [],
   "source": [
    "def filtered_mode(filename,tssDict,enhancerDict):\n",
    "    tss_filterd=open('/Users/wangshili/Desktop/2021_spring/genomics/project/02710-group-project/data/ABC/k562_tss_filterd.txt',\"w+\")\n",
    "    ccre_filterd=open('/Users/wangshili/Desktop/2021_spring/genomics/project/02710-group-project/data/ABC/'+\n",
    "                                      'k562_ccre_filterd.txt',\"w+\")\n",
    "    benchmark_filterd=open('/Users/wangshili/Desktop/2021_spring/genomics/project/02710-group-project/data/ABC/'+\n",
    "                                                   'k562_benchmark_filterd.txt',\"w+\")\n",
    "    y=[]\n",
    "    pred=[]  \n",
    "    links=open(filename)\n",
    "    for line in links:\n",
    "        line=line.rstrip().split(\"\\t\")\n",
    "        m=1000000000000\n",
    "        for x in tssDict[line[1].rstrip()]:\n",
    "            a=min([abs(enhancerDict[line[0].rstrip()][0]-x),abs(enhancerDict[line[0].rstrip()][1]-x)])\n",
    "            if a < m:\n",
    "                m=a\n",
    "                \n",
    "        if m == 0:\n",
    "             continue\n",
    "        else:\n",
    "            if float(m) > 500000.0:\n",
    "                y.append(int(line[2]))\n",
    "                pred.append(1/float(m))\n",
    "\n",
    "                #print(line[2]+\"\\t\"+str(1/float(m)),file=output)\n",
    "\n",
    "                for x in tssDict[line[1].rstrip()]:\n",
    "                    print(str(x) +\"\\t\"+line[1],file=tss_filterd)\n",
    "                    print(str(enhancerDict[line[0].rstrip()][0])+\"\\t\"+str(enhancerDict[line[0].rstrip()][1])+\"\\t\"+str(line[0]),file=ccre_filterd)\n",
    "                    print(line[0]+\"\\t\"+line[1]+\"\\t\"+line[2],file=benchmark_filterd)\n",
    "    tss_filterd.close()\n",
    "    ccre_filterd.close()\n",
    "    benchmark_filterd.close()\n",
    "    links.close()\n",
    "    \n",
    "    return np.array(y),np.array(pred)"
   ]
  },
  {
   "cell_type": "code",
   "execution_count": 157,
   "metadata": {},
   "outputs": [
    {
     "name": "stdout",
     "output_type": "stream",
     "text": [
      "compute area: 0.5118353541433771\n"
     ]
    },
    {
     "data": {
      "image/png": "[encoded data removed]",
      "text/plain": [
       "<Figure size 432x288 with 1 Axes>"
      ]
     },
     "metadata": {
      "needs_background": "light"
     },
     "output_type": "display_data"
    }
   ],
   "source": [
    "#analyze enhancer distribution\n",
    "enhancers_name ='/Users/wangshili/Desktop/2021_spring/genomics/project/02710-group-project/data/ABC/hg19-cCREs.bed'\n",
    "tss_name='/Users/wangshili/Desktop/2021_spring/genomics/project/02710-group-project/data/ABC/GENCODEv19-TSSs.bed'\n",
    "linkname = '/Users/wangshili/Desktop/2021_spring/genomics/project/02710-group-project/data/ABC/K562.CRISPR-Benchmark.v3.txt'\n",
    "tssDict = Create_TSS_Dict(tss_name)\n",
    "enhancerDict = Create_Enhancer_Dict(enhancers_name)\n",
    "y,pred = filtered_mode(linkname,tssDict,enhancerDict)\n",
    "plot_auc('k562_distance_filtered','roc curve for k562_crisper_distance_method on filtered data',y,pred)"
   ]
  },
  {
   "cell_type": "code",
   "execution_count": 158,
   "metadata": {},
   "outputs": [
    {
     "name": "stdout",
     "output_type": "stream",
     "text": [
      "29\n"
     ]
    }
   ],
   "source": [
    "print(np.count_nonzero(y))"
   ]
  },
  {
   "cell_type": "code",
   "execution_count": null,
   "metadata": {},
   "outputs": [],
   "source": []
  }
 ],
 "metadata": {
  "kernelspec": {
   "display_name": "Python [conda env:bsoid_env] *",
   "language": "python",
   "name": "conda-env-bsoid_env-py"
  }
 },
 "nbformat": 4,
 "nbformat_minor": 4
}
